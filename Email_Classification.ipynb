{
  "nbformat": 4,
  "nbformat_minor": 0,
  "metadata": {
    "colab": {
      "provenance": [],
      "authorship_tag": "ABX9TyMGJ7S8/o9Kp4Ol9/ezbWIS",
      "include_colab_link": true
    },
    "kernelspec": {
      "name": "python3",
      "display_name": "Python 3"
    },
    "language_info": {
      "name": "python"
    }
  },
  "cells": [
    {
      "cell_type": "markdown",
      "metadata": {
        "id": "view-in-github",
        "colab_type": "text"
      },
      "source": [
        "<a href=\"https://colab.research.google.com/github/sonejamohit/Email_Classification/blob/main/Email_Classification.ipynb\" target=\"_parent\"><img src=\"https://colab.research.google.com/assets/colab-badge.svg\" alt=\"Open In Colab\"/></a>"
      ]
    },
    {
      "cell_type": "code",
      "execution_count": 1,
      "metadata": {
        "id": "E3kC31823Izp"
      },
      "outputs": [],
      "source": [
        "import numpy as np    #array\n",
        "import pandas as pd   #dataframe\n",
        "from sklearn.model_selection import train_test_split          #split into train and test\n",
        "from sklearn.feature_extraction.text import TfidfVectorizer   #text to numeric value conversion[feature vector]\n",
        "from sklearn.linear_model import LogisticRegression\n",
        "from sklearn.metrics import accuracy_score"
      ]
    },
    {
      "cell_type": "code",
      "source": [
        "unclean_email_data=pd.read_csv('/content/email_dataset.csv')"
      ],
      "metadata": {
        "id": "5CMs2aqb5p1V"
      },
      "execution_count": 4,
      "outputs": []
    },
    {
      "cell_type": "code",
      "source": [
        "print(unclean_email_data)"
      ],
      "metadata": {
        "colab": {
          "base_uri": "https://localhost:8080/"
        },
        "id": "smkI4SGj6I__",
        "outputId": "59bd63bb-365d-4449-ecdc-a1d7f55ecb5f"
      },
      "execution_count": 5,
      "outputs": [
        {
          "output_type": "stream",
          "name": "stdout",
          "text": [
            "      Unnamed: 0 Label                                           MailText  \\\n",
            "0            605   ham  Subject: enron methanol ; meter # : 988291\\r\\n...   \n",
            "1           2349   ham  Subject: hpl nom for january 9 , 2001\\r\\n( see...   \n",
            "2           3624   ham  Subject: neon retreat\\r\\nho ho ho , we ' re ar...   \n",
            "3           4685  spam  Subject: photoshop , windows , office . cheap ...   \n",
            "4           2030   ham  Subject: re : indian springs\\r\\nthis deal is t...   \n",
            "...          ...   ...                                                ...   \n",
            "5166        1518   ham  Subject: put the 10 on the ft\\r\\nthe transport...   \n",
            "5167         404   ham  Subject: 3 / 4 / 2000 and following noms\\r\\nhp...   \n",
            "5168        2933   ham  Subject: calpine daily gas nomination\\r\\n>\\r\\n...   \n",
            "5169        1409   ham  Subject: industrial worksheets for august 2000...   \n",
            "5170        4807  spam  Subject: important online banking alert\\r\\ndea...   \n",
            "\n",
            "      Label_Number  \n",
            "0                0  \n",
            "1                0  \n",
            "2                0  \n",
            "3                1  \n",
            "4                0  \n",
            "...            ...  \n",
            "5166             0  \n",
            "5167             0  \n",
            "5168             0  \n",
            "5169             0  \n",
            "5170             1  \n",
            "\n",
            "[5171 rows x 4 columns]\n"
          ]
        }
      ]
    },
    {
      "cell_type": "code",
      "source": [
        "mail_data = unclean_email_data.where((pd.notnull(unclean_email_data)),'')"
      ],
      "metadata": {
        "id": "KfoT2mfo6QR8"
      },
      "execution_count": 6,
      "outputs": []
    },
    {
      "cell_type": "code",
      "source": [
        "mail_data.head()"
      ],
      "metadata": {
        "colab": {
          "base_uri": "https://localhost:8080/",
          "height": 206
        },
        "id": "UEFY0ZFX7BfL",
        "outputId": "b428570c-d21d-4390-d6dd-7653803f8225"
      },
      "execution_count": 7,
      "outputs": [
        {
          "output_type": "execute_result",
          "data": {
            "text/plain": [
              "   Unnamed: 0 Label                                           MailText  \\\n",
              "0         605   ham  Subject: enron methanol ; meter # : 988291\\r\\n...   \n",
              "1        2349   ham  Subject: hpl nom for january 9 , 2001\\r\\n( see...   \n",
              "2        3624   ham  Subject: neon retreat\\r\\nho ho ho , we ' re ar...   \n",
              "3        4685  spam  Subject: photoshop , windows , office . cheap ...   \n",
              "4        2030   ham  Subject: re : indian springs\\r\\nthis deal is t...   \n",
              "\n",
              "   Label_Number  \n",
              "0             0  \n",
              "1             0  \n",
              "2             0  \n",
              "3             1  \n",
              "4             0  "
            ],
            "text/html": [
              "\n",
              "  <div id=\"df-4d0a20e0-7133-439f-ba78-7d158fa655e5\">\n",
              "    <div class=\"colab-df-container\">\n",
              "      <div>\n",
              "<style scoped>\n",
              "    .dataframe tbody tr th:only-of-type {\n",
              "        vertical-align: middle;\n",
              "    }\n",
              "\n",
              "    .dataframe tbody tr th {\n",
              "        vertical-align: top;\n",
              "    }\n",
              "\n",
              "    .dataframe thead th {\n",
              "        text-align: right;\n",
              "    }\n",
              "</style>\n",
              "<table border=\"1\" class=\"dataframe\">\n",
              "  <thead>\n",
              "    <tr style=\"text-align: right;\">\n",
              "      <th></th>\n",
              "      <th>Unnamed: 0</th>\n",
              "      <th>Label</th>\n",
              "      <th>MailText</th>\n",
              "      <th>Label_Number</th>\n",
              "    </tr>\n",
              "  </thead>\n",
              "  <tbody>\n",
              "    <tr>\n",
              "      <th>0</th>\n",
              "      <td>605</td>\n",
              "      <td>ham</td>\n",
              "      <td>Subject: enron methanol ; meter # : 988291\\r\\n...</td>\n",
              "      <td>0</td>\n",
              "    </tr>\n",
              "    <tr>\n",
              "      <th>1</th>\n",
              "      <td>2349</td>\n",
              "      <td>ham</td>\n",
              "      <td>Subject: hpl nom for january 9 , 2001\\r\\n( see...</td>\n",
              "      <td>0</td>\n",
              "    </tr>\n",
              "    <tr>\n",
              "      <th>2</th>\n",
              "      <td>3624</td>\n",
              "      <td>ham</td>\n",
              "      <td>Subject: neon retreat\\r\\nho ho ho , we ' re ar...</td>\n",
              "      <td>0</td>\n",
              "    </tr>\n",
              "    <tr>\n",
              "      <th>3</th>\n",
              "      <td>4685</td>\n",
              "      <td>spam</td>\n",
              "      <td>Subject: photoshop , windows , office . cheap ...</td>\n",
              "      <td>1</td>\n",
              "    </tr>\n",
              "    <tr>\n",
              "      <th>4</th>\n",
              "      <td>2030</td>\n",
              "      <td>ham</td>\n",
              "      <td>Subject: re : indian springs\\r\\nthis deal is t...</td>\n",
              "      <td>0</td>\n",
              "    </tr>\n",
              "  </tbody>\n",
              "</table>\n",
              "</div>\n",
              "      <button class=\"colab-df-convert\" onclick=\"convertToInteractive('df-4d0a20e0-7133-439f-ba78-7d158fa655e5')\"\n",
              "              title=\"Convert this dataframe to an interactive table.\"\n",
              "              style=\"display:none;\">\n",
              "        \n",
              "  <svg xmlns=\"http://www.w3.org/2000/svg\" height=\"24px\"viewBox=\"0 0 24 24\"\n",
              "       width=\"24px\">\n",
              "    <path d=\"M0 0h24v24H0V0z\" fill=\"none\"/>\n",
              "    <path d=\"M18.56 5.44l.94 2.06.94-2.06 2.06-.94-2.06-.94-.94-2.06-.94 2.06-2.06.94zm-11 1L8.5 8.5l.94-2.06 2.06-.94-2.06-.94L8.5 2.5l-.94 2.06-2.06.94zm10 10l.94 2.06.94-2.06 2.06-.94-2.06-.94-.94-2.06-.94 2.06-2.06.94z\"/><path d=\"M17.41 7.96l-1.37-1.37c-.4-.4-.92-.59-1.43-.59-.52 0-1.04.2-1.43.59L10.3 9.45l-7.72 7.72c-.78.78-.78 2.05 0 2.83L4 21.41c.39.39.9.59 1.41.59.51 0 1.02-.2 1.41-.59l7.78-7.78 2.81-2.81c.8-.78.8-2.07 0-2.86zM5.41 20L4 18.59l7.72-7.72 1.47 1.35L5.41 20z\"/>\n",
              "  </svg>\n",
              "      </button>\n",
              "      \n",
              "  <style>\n",
              "    .colab-df-container {\n",
              "      display:flex;\n",
              "      flex-wrap:wrap;\n",
              "      gap: 12px;\n",
              "    }\n",
              "\n",
              "    .colab-df-convert {\n",
              "      background-color: #E8F0FE;\n",
              "      border: none;\n",
              "      border-radius: 50%;\n",
              "      cursor: pointer;\n",
              "      display: none;\n",
              "      fill: #1967D2;\n",
              "      height: 32px;\n",
              "      padding: 0 0 0 0;\n",
              "      width: 32px;\n",
              "    }\n",
              "\n",
              "    .colab-df-convert:hover {\n",
              "      background-color: #E2EBFA;\n",
              "      box-shadow: 0px 1px 2px rgba(60, 64, 67, 0.3), 0px 1px 3px 1px rgba(60, 64, 67, 0.15);\n",
              "      fill: #174EA6;\n",
              "    }\n",
              "\n",
              "    [theme=dark] .colab-df-convert {\n",
              "      background-color: #3B4455;\n",
              "      fill: #D2E3FC;\n",
              "    }\n",
              "\n",
              "    [theme=dark] .colab-df-convert:hover {\n",
              "      background-color: #434B5C;\n",
              "      box-shadow: 0px 1px 3px 1px rgba(0, 0, 0, 0.15);\n",
              "      filter: drop-shadow(0px 1px 2px rgba(0, 0, 0, 0.3));\n",
              "      fill: #FFFFFF;\n",
              "    }\n",
              "  </style>\n",
              "\n",
              "      <script>\n",
              "        const buttonEl =\n",
              "          document.querySelector('#df-4d0a20e0-7133-439f-ba78-7d158fa655e5 button.colab-df-convert');\n",
              "        buttonEl.style.display =\n",
              "          google.colab.kernel.accessAllowed ? 'block' : 'none';\n",
              "\n",
              "        async function convertToInteractive(key) {\n",
              "          const element = document.querySelector('#df-4d0a20e0-7133-439f-ba78-7d158fa655e5');\n",
              "          const dataTable =\n",
              "            await google.colab.kernel.invokeFunction('convertToInteractive',\n",
              "                                                     [key], {});\n",
              "          if (!dataTable) return;\n",
              "\n",
              "          const docLinkHtml = 'Like what you see? Visit the ' +\n",
              "            '<a target=\"_blank\" href=https://colab.research.google.com/notebooks/data_table.ipynb>data table notebook</a>'\n",
              "            + ' to learn more about interactive tables.';\n",
              "          element.innerHTML = '';\n",
              "          dataTable['output_type'] = 'display_data';\n",
              "          await google.colab.output.renderOutput(dataTable, element);\n",
              "          const docLink = document.createElement('div');\n",
              "          docLink.innerHTML = docLinkHtml;\n",
              "          element.appendChild(docLink);\n",
              "        }\n",
              "      </script>\n",
              "    </div>\n",
              "  </div>\n",
              "  "
            ]
          },
          "metadata": {},
          "execution_count": 7
        }
      ]
    },
    {
      "cell_type": "code",
      "source": [
        "mail_data.shape"
      ],
      "metadata": {
        "id": "bWB0_ZJQ7QjH",
        "colab": {
          "base_uri": "https://localhost:8080/"
        },
        "outputId": "67e20412-eac2-465e-aaee-c27f6451f8d4"
      },
      "execution_count": 8,
      "outputs": [
        {
          "output_type": "execute_result",
          "data": {
            "text/plain": [
              "(5171, 4)"
            ]
          },
          "metadata": {},
          "execution_count": 8
        }
      ]
    },
    {
      "cell_type": "code",
      "source": [
        "mail_data.loc[mail_data['Label'] == 'spam', 'Label',] = 0\n",
        "mail_data.loc[mail_data['Label'] == 'ham', 'Label',] = 1"
      ],
      "metadata": {
        "id": "8ohGMDnr4lAQ"
      },
      "execution_count": 11,
      "outputs": []
    },
    {
      "cell_type": "code",
      "source": [
        "X = mail_data['MailText']\n",
        "Y = mail_data['Label']"
      ],
      "metadata": {
        "id": "oTmsygFo4vVv"
      },
      "execution_count": 13,
      "outputs": []
    },
    {
      "cell_type": "code",
      "source": [
        "print(X)"
      ],
      "metadata": {
        "colab": {
          "base_uri": "https://localhost:8080/"
        },
        "id": "9tyipGXh46on",
        "outputId": "8294dda7-aab4-4a8f-fe05-9b1fe2c477f4"
      },
      "execution_count": 14,
      "outputs": [
        {
          "output_type": "stream",
          "name": "stdout",
          "text": [
            "0       Subject: enron methanol ; meter # : 988291\\r\\n...\n",
            "1       Subject: hpl nom for january 9 , 2001\\r\\n( see...\n",
            "2       Subject: neon retreat\\r\\nho ho ho , we ' re ar...\n",
            "3       Subject: photoshop , windows , office . cheap ...\n",
            "4       Subject: re : indian springs\\r\\nthis deal is t...\n",
            "                              ...                        \n",
            "5166    Subject: put the 10 on the ft\\r\\nthe transport...\n",
            "5167    Subject: 3 / 4 / 2000 and following noms\\r\\nhp...\n",
            "5168    Subject: calpine daily gas nomination\\r\\n>\\r\\n...\n",
            "5169    Subject: industrial worksheets for august 2000...\n",
            "5170    Subject: important online banking alert\\r\\ndea...\n",
            "Name: MailText, Length: 5171, dtype: object\n"
          ]
        }
      ]
    },
    {
      "cell_type": "code",
      "source": [
        "print(Y)"
      ],
      "metadata": {
        "colab": {
          "base_uri": "https://localhost:8080/"
        },
        "id": "8Tqr7VNr5Bna",
        "outputId": "31c60cb9-7d36-4282-b191-3140985ae961"
      },
      "execution_count": 15,
      "outputs": [
        {
          "output_type": "stream",
          "name": "stdout",
          "text": [
            "0       1\n",
            "1       1\n",
            "2       1\n",
            "3       0\n",
            "4       1\n",
            "       ..\n",
            "5166    1\n",
            "5167    1\n",
            "5168    1\n",
            "5169    1\n",
            "5170    0\n",
            "Name: Label, Length: 5171, dtype: object\n"
          ]
        }
      ]
    },
    {
      "cell_type": "code",
      "source": [
        "X_train, X_test, Y_train, Y_test = train_test_split(X, Y, test_size=0.2, random_state=3)"
      ],
      "metadata": {
        "id": "QADoxSQk5DJZ"
      },
      "execution_count": 16,
      "outputs": []
    },
    {
      "cell_type": "code",
      "source": [
        "print(X.shape)\n",
        "print(X_train.shape)\n",
        "print(X_test.shape)"
      ],
      "metadata": {
        "colab": {
          "base_uri": "https://localhost:8080/"
        },
        "id": "DPoVjCXa5FoP",
        "outputId": "74746677-00bb-4d12-a4ae-8daa1ad30e57"
      },
      "execution_count": 17,
      "outputs": [
        {
          "output_type": "stream",
          "name": "stdout",
          "text": [
            "(5171,)\n",
            "(4136,)\n",
            "(1035,)\n"
          ]
        }
      ]
    },
    {
      "cell_type": "code",
      "source": [
        "feature_extraction = TfidfVectorizer(min_df = 1, stop_words='english', lowercase='True')\n",
        "\n",
        "X_train_features = feature_extraction.fit_transform(X_train)\n",
        "X_test_features = feature_extraction.transform(X_test)\n"
      ],
      "metadata": {
        "id": "_9VlqoT25H_Z"
      },
      "execution_count": 18,
      "outputs": []
    },
    {
      "cell_type": "code",
      "source": [
        "Y_train = Y_train.astype('int')\n",
        "Y_test = Y_test.astype('int')"
      ],
      "metadata": {
        "id": "wb1t6owE5L44"
      },
      "execution_count": 19,
      "outputs": []
    },
    {
      "cell_type": "code",
      "source": [
        "print(X_train)"
      ],
      "metadata": {
        "colab": {
          "base_uri": "https://localhost:8080/"
        },
        "id": "-FaSJlgI5Q2X",
        "outputId": "702fdb40-6c4d-4701-9295-a48527b5aa4c"
      },
      "execution_count": 20,
      "outputs": [
        {
          "output_type": "stream",
          "name": "stdout",
          "text": [
            "2209    Subject: hplc to wellhead\\r\\ndaren here is the...\n",
            "2000    Subject: mobil chemical - hpl meter # 1256 - e...\n",
            "5030    Subject: revised nom 5 / 5 - eastrans ; revise...\n",
            "1376    Subject: re : exxon company , usa global # 960...\n",
            "1564    Subject: your pharmacy nx\\r\\nwant a cheap pain...\n",
            "                              ...                        \n",
            "789     Subject: incr ' ease yo ' ur man ' hood by 4 -...\n",
            "968     Subject: subscribers receive first notice on r...\n",
            "1667    Subject: neon for march 28\\r\\nhere is the neon...\n",
            "3321    Subject: re : first delivery - pure resources ...\n",
            "1688    Subject: enhance your chest size\\r\\nemail is l...\n",
            "Name: MailText, Length: 4136, dtype: object\n"
          ]
        }
      ]
    },
    {
      "cell_type": "code",
      "source": [
        "print(X_train_features)\n"
      ],
      "metadata": {
        "colab": {
          "base_uri": "https://localhost:8080/"
        },
        "id": "2iVSi9OG5UEO",
        "outputId": "84c4cec6-f958-40b0-b1e2-8b126c82b2ae"
      },
      "execution_count": 21,
      "outputs": [
        {
          "output_type": "stream",
          "name": "stdout",
          "text": [
            "  (0, 3871)\t0.13387711316973605\n",
            "  (0, 531)\t0.14556222812251965\n",
            "  (0, 30451)\t0.08468916670398006\n",
            "  (0, 43273)\t0.14556222812251965\n",
            "  (0, 3890)\t0.14556222812251965\n",
            "  (0, 548)\t0.14556222812251965\n",
            "  (0, 37262)\t0.11275796314501375\n",
            "  (0, 2908)\t0.11535664415295803\n",
            "  (0, 456)\t0.14556222812251965\n",
            "  (0, 26297)\t0.09506000151609588\n",
            "  (0, 36190)\t0.11400727959297849\n",
            "  (0, 2478)\t0.13872687405852518\n",
            "  (0, 521)\t0.14556222812251965\n",
            "  (0, 16808)\t0.11843023142166303\n",
            "  (0, 22041)\t0.13387711316973605\n",
            "  (0, 2706)\t0.14556222812251965\n",
            "  (0, 522)\t0.14556222812251965\n",
            "  (0, 32060)\t0.07311834410351342\n",
            "  (0, 19411)\t0.04211028825505044\n",
            "  (0, 2537)\t0.13872687405852518\n",
            "  (0, 517)\t0.14556222812251965\n",
            "  (0, 19429)\t0.14556222812251965\n",
            "  (0, 16637)\t0.24438399643390496\n",
            "  (0, 3875)\t0.14556222812251965\n",
            "  (0, 836)\t0.14556222812251965\n",
            "  :\t:\n",
            "  (4135, 8873)\t0.07154271542163933\n",
            "  (4135, 16161)\t0.07327358549803296\n",
            "  (4135, 26936)\t0.07154271542163933\n",
            "  (4135, 15691)\t0.07812310961344454\n",
            "  (4135, 14167)\t0.07812310961344454\n",
            "  (4135, 11832)\t0.07539199926380867\n",
            "  (4135, 4961)\t0.07539199926380867\n",
            "  (4135, 7395)\t0.07154271542163933\n",
            "  (4135, 10238)\t0.06669319130622776\n",
            "  (4135, 29033)\t0.057994383348646844\n",
            "  (4135, 22458)\t0.05353240292261735\n",
            "  (4135, 14390)\t0.05726375354549545\n",
            "  (4135, 16537)\t0.07154271542163933\n",
            "  (4135, 42960)\t0.06496232122983413\n",
            "  (4135, 16217)\t0.06769343157946998\n",
            "  (4135, 26408)\t0.046488819206390516\n",
            "  (4135, 14282)\t0.06669319130622776\n",
            "  (4135, 27714)\t0.031300464660012135\n",
            "  (4135, 16475)\t0.03146157037949769\n",
            "  (4135, 38725)\t0.04124090788006661\n",
            "  (4135, 43426)\t0.05920796972538574\n",
            "  (4135, 20748)\t0.05068335935369024\n",
            "  (4135, 14513)\t0.056585357723181545\n",
            "  (4135, 36190)\t0.06420243561903816\n",
            "  (4135, 38946)\t0.009493502067611905\n"
          ]
        }
      ]
    },
    {
      "cell_type": "code",
      "source": [
        "model = LogisticRegression()\n"
      ],
      "metadata": {
        "id": "qnpDJ3V45XgP"
      },
      "execution_count": 22,
      "outputs": []
    },
    {
      "cell_type": "code",
      "source": [
        "model.fit(X_train_features, Y_train)\n"
      ],
      "metadata": {
        "colab": {
          "base_uri": "https://localhost:8080/"
        },
        "id": "WNFUP3Fs5Z_I",
        "outputId": "909b516c-c02f-482e-f227-57aae3dbc44e"
      },
      "execution_count": 23,
      "outputs": [
        {
          "output_type": "execute_result",
          "data": {
            "text/plain": [
              "LogisticRegression()"
            ]
          },
          "metadata": {},
          "execution_count": 23
        }
      ]
    },
    {
      "cell_type": "code",
      "source": [
        "prediction_on_training_data = model.predict(X_train_features)\n",
        "accuracy_on_training_data = accuracy_score(Y_train, prediction_on_training_data)"
      ],
      "metadata": {
        "id": "YVDF_YJL5bzb"
      },
      "execution_count": 24,
      "outputs": []
    },
    {
      "cell_type": "code",
      "source": [
        "print('Accuracy on training data : ', accuracy_on_training_data)"
      ],
      "metadata": {
        "colab": {
          "base_uri": "https://localhost:8080/"
        },
        "id": "1T3H_Y5W5fua",
        "outputId": "ed795da6-9772-41eb-ff57-78e28883e2ff"
      },
      "execution_count": 25,
      "outputs": [
        {
          "output_type": "stream",
          "name": "stdout",
          "text": [
            "Accuracy on training data :  0.9970986460348162\n"
          ]
        }
      ]
    },
    {
      "cell_type": "code",
      "source": [
        "input_mail = [\"I've been searching for the right words to thank you for this breather. I promise i wont take your help for granted and will fulfil my promise. You have been wonderful and a blessing at all times\"]\n"
      ],
      "metadata": {
        "id": "7yATPe0e5iO9"
      },
      "execution_count": 26,
      "outputs": []
    },
    {
      "cell_type": "code",
      "source": [
        "# convert text to feature vectors\n",
        "input_data_features = feature_extraction.transform(input_mail)\n",
        "\n",
        "# making prediction\n",
        "\n",
        "prediction = model.predict(input_data_features)\n",
        "print(prediction)"
      ],
      "metadata": {
        "colab": {
          "base_uri": "https://localhost:8080/"
        },
        "id": "Kx81NruR5mno",
        "outputId": "d1cca677-0cef-48ec-c382-54827b0d53de"
      },
      "execution_count": 27,
      "outputs": [
        {
          "output_type": "stream",
          "name": "stdout",
          "text": [
            "[0]\n"
          ]
        }
      ]
    },
    {
      "cell_type": "code",
      "source": [
        "if (prediction[0]==1):\n",
        "  print('Ham mail')\n",
        "\n",
        "else:\n",
        "  print('Spam mail')"
      ],
      "metadata": {
        "colab": {
          "base_uri": "https://localhost:8080/"
        },
        "id": "DTyc3rka5s1h",
        "outputId": "9ed7150d-77d0-48c5-a946-528a8eae509e"
      },
      "execution_count": 28,
      "outputs": [
        {
          "output_type": "stream",
          "name": "stdout",
          "text": [
            "Spam mail\n"
          ]
        }
      ]
    },
    {
      "cell_type": "code",
      "source": [],
      "metadata": {
        "id": "QXrmrQxm5xmx"
      },
      "execution_count": null,
      "outputs": []
    }
  ]
}